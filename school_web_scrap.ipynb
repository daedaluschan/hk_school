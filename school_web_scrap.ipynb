{
 "cells": [
  {
   "cell_type": "code",
   "execution_count": 2,
   "metadata": {
    "collapsed": false
   },
   "outputs": [],
   "source": [
    "import requests\n",
    "import string\n",
    "\n",
    "from lxml import etree\n",
    "from lxml import html"
   ]
  },
  {
   "cell_type": "code",
   "execution_count": 3,
   "metadata": {
    "collapsed": true
   },
   "outputs": [],
   "source": [
    "school_list_url = 'http://kgp2015.highlight.hk/website/school.php'\n",
    "school_info_url = 'http://kgp2015.highlight.hk/website/schoolinfo.php?schid='\n",
    "# proxies = {'http': 'proxy.wellsfargo.com:8080', 'https': 'proxy.wellsfargo.com:8080'}\n",
    "proxies = {}"
   ]
  },
  {
   "cell_type": "code",
   "execution_count": 4,
   "metadata": {
    "collapsed": false,
    "scrolled": true
   },
   "outputs": [
    {
     "data": {
      "text/plain": [
       "994"
      ]
     },
     "execution_count": 4,
     "metadata": {},
     "output_type": "execute_result"
    }
   ],
   "source": [
    "parser = etree.HTMLParser()\n",
    "\n",
    "\n",
    "def getSchoolIdList():\n",
    "    if len(proxies) == 0: \n",
    "        r = requests.get(school_list_url)\n",
    "    else:\n",
    "        r = requests.get(school_list_url, proxies=proxies)\n",
    "    tree = etree.fromstring(r.content, parser=parser)\n",
    "    \n",
    "    td_list = tree.xpath('//table[@class=\\'font_content_school_list\\']/tr/td[@onclick]')\n",
    "    \n",
    "    school_id_list = []\n",
    "    \n",
    "    for td in td_list:\n",
    "        school_id_list.append(td.attrib['onclick'].split('\\'')[1])\n",
    "    \n",
    "    return school_id_list\n",
    "\n",
    "\n",
    "i = getSchoolIdList()\n",
    "\n",
    "len(i)"
   ]
  },
  {
   "cell_type": "code",
   "execution_count": 64,
   "metadata": {
    "collapsed": false
   },
   "outputs": [
    {
     "name": "stdout",
     "output_type": "stream",
     "text": [
      "{'ece_cert': '16', 'fee_wd_n': '-', 'red_fee_wd_up_kg': '-', 'non_degree_holder': '7', 'accomodation': '324', 'red_fee_pm_n': '$5,925 (11)', 'num_of_classrm': '6', 'school_cat': '非牟利', 'pm_up_kg': '36', 'quality_review_result': '符合要求 Meeting the prescribed standards', 'pm_teacher_ratio': '1 : 7.4', 'fee_pm_n': '$28,435 (11)', 'kg_teacher': '0', 'fee_am_low_kg': '$28,435 (11)', 'student_cat': '男女', 'incld_age_2_3': '沒有 No', 'red_fee_am_up_kg': '$5,925 (11)', 'outdoor_playground': '沒有 No', 'red_fee_am_n': '$5,925 (11)', 'school_year': '2015/16', 'music_rm': '有 Yes', 'fee_am_n': '$28,435 (11)', 'degree_holder': '9', 'school_tel': '2278 0022', 'pm_low_kg': '35', 'red_fee_pm_low_kg': '$5,925 (11)', 'wd_low_kg': '0', 'website': 'http://www.aoguck.edu.hk', 'asist_kg_teacher': '0', 'wd_up_kg': '0', 'red_fee_wd_low_kg': '-', 'voucher': '有', 'quality_review_report': 'http://www.edb.gov.hk/attachment/tc/edu-system/preprimary-kindergarten/quality-assurance-framework/qr/qr-report/AOG_UnionCh.pdf', 'fee_wd_low_kg': '-', 'red_fee_wd_n': '-', 'district': '沙田區 Sha Tin', 'found_year': '2001', 'school_name': '基督教神召會合一堂幼稚園', 'am_low_kg': '54', 'fee_wd_up_kg': '-', 'other_rm': '電腦室', 'other_teacher_training': '0', 'fee_am_up_kg': '$28,435 (11)', 'other_qual': '0', 'red_fee_am_low_kg': '$5,925 (11)', 'wd_n': '0', 'am_up_kg': '54', 'am_teacher_ratio': '1 : 10.1', 'num_of_teacher': '16', 'red_fee_pm_up_kg': '$5,925 (11)', 'fee_pm_up_kg': '$28,435 (11)', 'am_n': '54', 'principal': '葉秋蘭女士', 'supervisor': '馬幼金牧師', 'fee_pm_low_kg': '$28,435 (11)', 'indoor_playground': '有 Yes', 'pm_n': '47', 'school_addr': '新界沙田愉翠苑2期停車場及服務設施大樓1樓', 'school_fax': '2278 0088'}\n"
     ]
    }
   ],
   "source": [
    "def getSchoolInfo(school_id):\n",
    "    schoolInfo = dict()\n",
    "    r = requests.get(school_info_url + school_id.__str__(), proxies=proxies)\n",
    "    tree = etree.fromstring(r.content, parser=parser)\n",
    "        \n",
    "    district = tree.xpath('//table[@class=\\'Font_District_Name\\']')[0].getchildren()[1].getchildren()[1].text.strip()\n",
    "    \n",
    "    basicInfoNode = tree.xpath('//table[@class=\\'font_content_schoolinfo\\']')\n",
    "    school_name = basicInfoNode[0].getchildren()[0].getchildren()[0].text.strip()\n",
    "    school_addr = basicInfoNode[0].getchildren()[2].getchildren()[1].text.strip()\n",
    "    school_tel = basicInfoNode[0].getchildren()[4].getchildren()[1].text.strip()\n",
    "    school_fax = basicInfoNode[0].getchildren()[6].getchildren()[1].text.strip()\n",
    "    \n",
    "    moreInfoNode = tree.xpath('//table[@class=\\'font_content_box\\']')\n",
    "    school_year = moreInfoNode[2].getchildren()[0].getchildren()[0].text.strip()\n",
    "    voucher = moreInfoNode[2].getchildren()[1].getchildren()[1].text.strip()\n",
    "    \n",
    "    school_cat = moreInfoNode[3].getchildren()[0].getchildren()[1].text.strip()\n",
    "    student_cat = moreInfoNode[3].getchildren()[1].getchildren()[1].text.strip()\n",
    "    supervisor = moreInfoNode[3].getchildren()[2].getchildren()[1].text.strip()\n",
    "    principal = moreInfoNode[3].getchildren()[3].getchildren()[1].text.strip()\n",
    "    found_year = moreInfoNode[3].getchildren()[4].getchildren()[1].text.strip()\n",
    "    accomodation = moreInfoNode[3].getchildren()[5].getchildren()[1].text.strip()\n",
    "    num_of_classrm = moreInfoNode[3].getchildren()[6].getchildren()[1].text.strip()\n",
    "    outdoor_playground = moreInfoNode[3].getchildren()[7].getchildren()[1].text.strip()\n",
    "    indoor_playground = moreInfoNode[3].getchildren()[8].getchildren()[1].text.strip()\n",
    "    music_rm = moreInfoNode[3].getchildren()[9].getchildren()[1].text.strip()\n",
    "    other_rm = moreInfoNode[3].getchildren()[10].getchildren()[1].text.strip()\n",
    "    num_of_teacher = moreInfoNode[3].getchildren()[11].getchildren()[1].text.strip()\n",
    "    website = moreInfoNode[3].getchildren()[12].getchildren()[1].getchildren()[0].text.strip()\n",
    "    quality_review_result = moreInfoNode[3].getchildren()[13].getchildren()[1].text.strip()\n",
    "    quality_review_report = moreInfoNode[3].getchildren()[13].getchildren()[1].getchildren()[0].text.strip()\n",
    "    \n",
    "    degree_holder = moreInfoNode[4].getchildren()[1].getchildren()[1].text.strip()\n",
    "    non_degree_holder = moreInfoNode[4].getchildren()[2].getchildren()[1].text.strip()\n",
    "    ece_cert = moreInfoNode[4].getchildren()[4].getchildren()[1].text.strip()\n",
    "    kg_teacher = moreInfoNode[4].getchildren()[5].getchildren()[1].text.strip()\n",
    "    other_teacher_training = moreInfoNode[4].getchildren()[6].getchildren()[1].text.strip()\n",
    "    asist_kg_teacher = moreInfoNode[4].getchildren()[7].getchildren()[1].text.strip()\n",
    "    other_qual = moreInfoNode[4].getchildren()[8].getchildren()[1].text.strip()\n",
    "    \n",
    "    am_teacher_ratio = moreInfoNode[6].getchildren()[1].text.strip()\n",
    "    pm_teacher_ratio = moreInfoNode[6].getchildren()[2].getchildren()[1].text.strip()\n",
    "    incld_age_2_3 = moreInfoNode[6].getchildren()[3].getchildren()[1].text.strip()\n",
    "    \n",
    "    am_n = moreInfoNode[7].getchildren()[1].getchildren()[1].text.strip()\n",
    "    am_low_kg = moreInfoNode[7].getchildren()[1].getchildren()[2].text.strip()\n",
    "    am_up_kg = moreInfoNode[7].getchildren()[1].getchildren()[3].text.strip()\n",
    "    pm_n = moreInfoNode[7].getchildren()[2].getchildren()[1].text.strip()\n",
    "    pm_low_kg = moreInfoNode[7].getchildren()[2].getchildren()[2].text.strip()\n",
    "    pm_up_kg = moreInfoNode[7].getchildren()[2].getchildren()[3].text.strip()\n",
    "    wd_n = moreInfoNode[7].getchildren()[3].getchildren()[1].text.strip()\n",
    "    wd_low_kg = moreInfoNode[7].getchildren()[3].getchildren()[2].text.strip()\n",
    "    wd_up_kg = moreInfoNode[7].getchildren()[3].getchildren()[3].text.strip()\n",
    "    \n",
    "    fee_am_n = moreInfoNode[8].getchildren()[1].getchildren()[2].text.strip()\n",
    "    fee_am_low_kg = moreInfoNode[8].getchildren()[1].getchildren()[3].text.strip()\n",
    "    fee_am_up_kg = moreInfoNode[8].getchildren()[1].getchildren()[4].text.strip()\n",
    "    fee_pm_n = moreInfoNode[8].getchildren()[2].getchildren()[1].text.strip()\n",
    "    fee_pm_low_kg = moreInfoNode[8].getchildren()[2].getchildren()[2].text.strip()\n",
    "    fee_pm_up_kg = moreInfoNode[8].getchildren()[2].getchildren()[3].text.strip()\n",
    "    fee_wd_n = moreInfoNode[8].getchildren()[3].getchildren()[1].text.strip()\n",
    "    fee_wd_low_kg = moreInfoNode[8].getchildren()[3].getchildren()[2].text.strip()\n",
    "    fee_wd_up_kg = moreInfoNode[8].getchildren()[3].getchildren()[3].text.strip()\n",
    "    \n",
    "    red_fee_am_n = moreInfoNode[8].getchildren()[5].getchildren()[2].text.strip()\n",
    "    red_fee_am_low_kg = moreInfoNode[8].getchildren()[5].getchildren()[3].text.strip()\n",
    "    red_fee_am_up_kg = moreInfoNode[8].getchildren()[5].getchildren()[4].text.strip()\n",
    "    red_fee_pm_n = moreInfoNode[8].getchildren()[6].getchildren()[1].text.strip()\n",
    "    red_fee_pm_low_kg = moreInfoNode[8].getchildren()[6].getchildren()[2].text.strip()\n",
    "    red_fee_pm_up_kg = moreInfoNode[8].getchildren()[6].getchildren()[3].text.strip()\n",
    "    red_fee_wd_n = moreInfoNode[8].getchildren()[7].getchildren()[1].text.strip()\n",
    "    red_fee_wd_low_kg = moreInfoNode[8].getchildren()[7].getchildren()[2].text.strip()\n",
    "    red_fee_wd_up_kg = moreInfoNode[8].getchildren()[7].getchildren()[3].text.strip()\n",
    "    \n",
    "    school__info = {'district' : district, 'school_name': school_name, 'school_addr': school_addr, 'school_tel': school_tel, 'school_fax': school_fax, \n",
    "                    'school_year': school_year, 'voucher': voucher, 'school_cat': school_cat, 'student_cat': student_cat, 'supervisor': supervisor, \n",
    "                    'principal': principal, 'found_year': found_year, 'accomodation': accomodation, 'num_of_classrm': num_of_classrm, \n",
    "                    'outdoor_playground': outdoor_playground, 'indoor_playground': indoor_playground, 'music_rm': music_rm, \n",
    "                    'other_rm': other_rm, 'num_of_teacher': num_of_teacher, 'website': website, 'quality_review_result': quality_review_result, \n",
    "                    'quality_review_report': quality_review_report, 'degree_holder': degree_holder, 'non_degree_holder': non_degree_holder, \n",
    "                    'ece_cert': ece_cert, 'kg_teacher': kg_teacher, 'other_teacher_training': other_teacher_training, 'asist_kg_teacher': asist_kg_teacher, \n",
    "                    'other_qual': other_qual, 'am_teacher_ratio': am_teacher_ratio, 'pm_teacher_ratio': pm_teacher_ratio, 'incld_age_2_3': incld_age_2_3, \n",
    "                    'am_n': am_n, 'am_low_kg': am_low_kg, 'am_up_kg': am_up_kg, 'pm_n': pm_n, 'pm_low_kg': pm_low_kg, 'pm_up_kg': pm_up_kg, \n",
    "                    'wd_n': wd_n, 'wd_low_kg': wd_low_kg, 'wd_up_kg': wd_up_kg, 'fee_am_n': fee_am_n, 'fee_am_low_kg': fee_am_low_kg, \n",
    "                    'fee_am_up_kg': fee_am_up_kg, 'fee_pm_n': fee_pm_n, 'fee_pm_low_kg': fee_pm_low_kg, 'fee_pm_up_kg': fee_pm_up_kg, \n",
    "                    'fee_wd_n': fee_wd_n, 'fee_wd_low_kg': fee_wd_low_kg, 'fee_wd_up_kg': fee_wd_up_kg, 'red_fee_am_n': red_fee_am_n, \n",
    "                    'red_fee_am_low_kg': red_fee_am_low_kg, 'red_fee_am_up_kg': red_fee_am_up_kg, 'red_fee_pm_n': red_fee_pm_n, \n",
    "                    'red_fee_pm_low_kg': red_fee_pm_low_kg, 'red_fee_pm_up_kg': red_fee_pm_up_kg, 'red_fee_wd_n': red_fee_wd_n, \n",
    "                    'red_fee_wd_low_kg': red_fee_wd_low_kg, 'red_fee_wd_up_kg': red_fee_wd_up_kg}\n",
    "    \n",
    "    print(school__info)\n",
    "\n",
    "getSchoolInfo(6440)"
   ]
  }
 ],
 "metadata": {
  "kernelspec": {
   "display_name": "Python 3",
   "language": "python",
   "name": "python3"
  },
  "language_info": {
   "codemirror_mode": {
    "name": "ipython",
    "version": 3
   },
   "file_extension": ".py",
   "mimetype": "text/x-python",
   "name": "python",
   "nbconvert_exporter": "python",
   "pygments_lexer": "ipython3",
   "version": "3.5.1"
  }
 },
 "nbformat": 4,
 "nbformat_minor": 0
}
