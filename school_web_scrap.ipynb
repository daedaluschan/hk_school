{
 "cells": [
  {
   "cell_type": "code",
   "execution_count": 1,
   "metadata": {
    "collapsed": false
   },
   "outputs": [],
   "source": [
    "import requests\n",
    "import string\n",
    "\n",
    "from lxml import etree\n",
    "from lxml import html"
   ]
  },
  {
   "cell_type": "code",
   "execution_count": 2,
   "metadata": {
    "collapsed": true
   },
   "outputs": [],
   "source": [
    "school_list_url = 'http://kgp2015.highlight.hk/website/school.php'\n",
    "school_info_url = 'http://kgp2015.highlight.hk/website/schoolinfo.php?schid='\n",
    "proxies = {'http': 'proxy.wellsfargo.com:8080', 'https': 'proxy.wellsfargo.com:8080'}\n",
    "# proxies = {}"
   ]
  },
  {
   "cell_type": "code",
   "execution_count": 3,
   "metadata": {
    "collapsed": false,
    "scrolled": true
   },
   "outputs": [
    {
     "data": {
      "text/plain": [
       "994"
      ]
     },
     "execution_count": 3,
     "metadata": {},
     "output_type": "execute_result"
    }
   ],
   "source": [
    "parser = etree.HTMLParser()\n",
    "\n",
    "\n",
    "def getSchoolIdList():\n",
    "    if len(proxies) == 0: \n",
    "        r = requests.get(school_list_url)\n",
    "    else:\n",
    "        r = requests.get(school_list_url, proxies=proxies)\n",
    "    tree = etree.fromstring(r.content, parser=parser)\n",
    "    \n",
    "    td_list = tree.xpath('//table[@class=\\'font_content_school_list\\']/tr/td[@onclick]')\n",
    "    \n",
    "    school_id_list = []\n",
    "    \n",
    "    for td in td_list:\n",
    "        school_id_list.append(td.attrib['onclick'].split('\\'')[1])\n",
    "    \n",
    "    return school_id_list\n",
    "\n",
    "\n",
    "i = getSchoolIdList()\n",
    "\n",
    "len(i)"
   ]
  },
  {
   "cell_type": "code",
   "execution_count": 16,
   "metadata": {
    "collapsed": false
   },
   "outputs": [
    {
     "name": "stdout",
     "output_type": "stream",
     "text": [
      "{'fee_wd_low_kg': '-', 'red_fee_wd_up_kg': '-', 'fee_wd_n': '-', 'child_care_under_2': '沒有', 'indoor_playground': '有 Yes', 'other_rm': '電腦室', 'am_teacher_ratio': '1 : 10.1', 'summer_uni': '$100 / 套 set', 'kg_teacher': '0', 'fee_pm_n': '$28,435 (11)', 'red_fee_pm_low_kg': '$5,925 (11)', 'wd_up_kg': '0', 'other_qual': '0', 'school_cat': '非牟利', 'music_rm': '有 Yes', 'wd_low_kg': '0', 'fee_am_n': '$28,435 (11)', 'num_of_2_3': '0', 'asist_kg_teacher': '0', 'principal': '葉秋蘭女士', 'other_teacher_training': '0', 'txt_book': '沒有直接代辦', 'am_low_kg': '54', 'fee_child_care_wd': '-', 'district': '沙田區 Sha Tin', 'fee_pm_up_kg': '$28,435 (11)', 'fee_am_low_kg': '$28,435 (11)', 'school_addr': '新界沙田愉翠苑2期停車場及服務設施大樓1樓', 'winter_uni': '$200 / 套 set', 'app_form': '請瀏覽學校網頁', 'school_tel': '2278 0022', 'red_fee_wd_low_kg': '-', 'school_year': '2015/16', 'red_fee_wd_n': '-', 'incld_age_2_3': '沒有 No', 'red_fee_am_up_kg': '$5,925 (11)', 'red_fee_pm_n': '$5,925 (11)', 'app_fee': '$40', 'fee_am_up_kg': '$28,435 (11)', 'fee_pm_low_kg': '$28,435 (11)', 'student_cat': '男女', 'pm_n': '47', 'ece_cert': '16', 'school_fax': '2278 0088', 'supervisor': '馬幼金牧師', 'degree_holder': '9', 'num_of_classrm': '6', 'child_care_subsidy': '沒有', 'child_care_serv': '沒有', 'pm_low_kg': '35', 'fee_wd_up_kg': '-', 'pm_teacher_ratio': '1 : 7.4', 'num_of_teacher': '16', 'accomodation': '324', 'snack': '沒有直接代辦', 'exe_book': '沒有直接代辦', 'voucher': '有', 'found_year': '2001', 'wd_n': '0', 'outdoor_playground': '沒有 No', 'curriculum': '本地', 'extend_hour': '沒有', 'quality_review_report': 'http://www.edb.gov.hk/attachment/tc/edu-system/preprimary-kindergarten/quality-assurance-framework/qr/qr-report/AOG_UnionCh.pdf', 'school_bag': '$80 / 個 each', 'am_n': '54', 'pm_up_kg': '36', 'quality_review_result': '符合要求 Meeting the prescribed standards', 'school_name': '基督教神召會合一堂幼稚園', 'red_fee_am_n': '$5,925 (11)', 'am_up_kg': '54', 'red_fee_pm_up_kg': '$5,925 (11)', 'non_degree_holder': '7', 'reg_fee_wd': '1,570元或每月學費的半數(以較低者為準)', 'reg_fee_hd': '970元或每月學費的半數(以較低者為準)', 'red_fee_am_low_kg': '$5,925 (11)', 'app_period': '請瀏覽學校網頁', 'website': 'http://www.aoguck.edu.hk', 'fee_child_care_hd': '-', 'occasional_child_care': '沒有'}\n"
     ]
    }
   ],
   "source": [
    "def getSchoolInfo(school_id):\n",
    "    schoolInfo = dict()\n",
    "    r = requests.get(school_info_url + school_id.__str__(), proxies=proxies)\n",
    "    tree = etree.fromstring(r.content, parser=parser)\n",
    "        \n",
    "    district = tree.xpath('//table[@class=\\'Font_District_Name\\']')[0].getchildren()[1].getchildren()[1].text.strip()\n",
    "    \n",
    "    basicInfoNode = tree.xpath('//table[@class=\\'font_content_schoolinfo\\']')\n",
    "    school_name = basicInfoNode[0].getchildren()[0].getchildren()[0].text.strip()\n",
    "    school_addr = basicInfoNode[0].getchildren()[2].getchildren()[1].text.strip()\n",
    "    school_tel = basicInfoNode[0].getchildren()[4].getchildren()[1].text.strip()\n",
    "    school_fax = basicInfoNode[0].getchildren()[6].getchildren()[1].text.strip()\n",
    "    \n",
    "    moreInfoNode = tree.xpath('//table[@class=\\'font_content_box\\']')\n",
    "    school_year = moreInfoNode[2].getchildren()[0].getchildren()[0].text.strip()\n",
    "    voucher = moreInfoNode[2].getchildren()[1].getchildren()[1].text.strip()\n",
    "    \n",
    "    school_cat = moreInfoNode[3].getchildren()[0].getchildren()[1].text.strip()\n",
    "    student_cat = moreInfoNode[3].getchildren()[1].getchildren()[1].text.strip()\n",
    "    supervisor = moreInfoNode[3].getchildren()[2].getchildren()[1].text.strip()\n",
    "    principal = moreInfoNode[3].getchildren()[3].getchildren()[1].text.strip()\n",
    "    found_year = moreInfoNode[3].getchildren()[4].getchildren()[1].text.strip()\n",
    "    accomodation = moreInfoNode[3].getchildren()[5].getchildren()[1].text.strip()\n",
    "    num_of_classrm = moreInfoNode[3].getchildren()[6].getchildren()[1].text.strip()\n",
    "    outdoor_playground = moreInfoNode[3].getchildren()[7].getchildren()[1].text.strip()\n",
    "    indoor_playground = moreInfoNode[3].getchildren()[8].getchildren()[1].text.strip()\n",
    "    music_rm = moreInfoNode[3].getchildren()[9].getchildren()[1].text.strip()\n",
    "    other_rm = moreInfoNode[3].getchildren()[10].getchildren()[1].text.strip()\n",
    "    num_of_teacher = moreInfoNode[3].getchildren()[11].getchildren()[1].text.strip()\n",
    "    website = moreInfoNode[3].getchildren()[12].getchildren()[1].getchildren()[0].text.strip()\n",
    "    quality_review_result = moreInfoNode[3].getchildren()[13].getchildren()[1].text.strip()\n",
    "    quality_review_report = moreInfoNode[3].getchildren()[13].getchildren()[1].getchildren()[0].text.strip()\n",
    "    \n",
    "    degree_holder = moreInfoNode[4].getchildren()[1].getchildren()[1].text.strip()\n",
    "    non_degree_holder = moreInfoNode[4].getchildren()[2].getchildren()[1].text.strip()\n",
    "    ece_cert = moreInfoNode[4].getchildren()[4].getchildren()[1].text.strip()\n",
    "    kg_teacher = moreInfoNode[4].getchildren()[5].getchildren()[1].text.strip()\n",
    "    other_teacher_training = moreInfoNode[4].getchildren()[6].getchildren()[1].text.strip()\n",
    "    asist_kg_teacher = moreInfoNode[4].getchildren()[7].getchildren()[1].text.strip()\n",
    "    other_qual = moreInfoNode[4].getchildren()[8].getchildren()[1].text.strip()\n",
    "    \n",
    "    am_teacher_ratio = moreInfoNode[6].getchildren()[1].text.strip()\n",
    "    pm_teacher_ratio = moreInfoNode[6].getchildren()[2].getchildren()[1].text.strip()\n",
    "    incld_age_2_3 = moreInfoNode[6].getchildren()[3].getchildren()[1].text.strip()\n",
    "    \n",
    "    am_n = moreInfoNode[7].getchildren()[1].getchildren()[1].text.strip()\n",
    "    am_low_kg = moreInfoNode[7].getchildren()[1].getchildren()[2].text.strip()\n",
    "    am_up_kg = moreInfoNode[7].getchildren()[1].getchildren()[3].text.strip()\n",
    "    pm_n = moreInfoNode[7].getchildren()[2].getchildren()[1].text.strip()\n",
    "    pm_low_kg = moreInfoNode[7].getchildren()[2].getchildren()[2].text.strip()\n",
    "    pm_up_kg = moreInfoNode[7].getchildren()[2].getchildren()[3].text.strip()\n",
    "    wd_n = moreInfoNode[7].getchildren()[3].getchildren()[1].text.strip()\n",
    "    wd_low_kg = moreInfoNode[7].getchildren()[3].getchildren()[2].text.strip()\n",
    "    wd_up_kg = moreInfoNode[7].getchildren()[3].getchildren()[3].text.strip()\n",
    "    \n",
    "    fee_am_n = moreInfoNode[8].getchildren()[1].getchildren()[2].text.strip()\n",
    "    fee_am_low_kg = moreInfoNode[8].getchildren()[1].getchildren()[3].text.strip()\n",
    "    fee_am_up_kg = moreInfoNode[8].getchildren()[1].getchildren()[4].text.strip()\n",
    "    fee_pm_n = moreInfoNode[8].getchildren()[2].getchildren()[1].text.strip()\n",
    "    fee_pm_low_kg = moreInfoNode[8].getchildren()[2].getchildren()[2].text.strip()\n",
    "    fee_pm_up_kg = moreInfoNode[8].getchildren()[2].getchildren()[3].text.strip()\n",
    "    fee_wd_n = moreInfoNode[8].getchildren()[3].getchildren()[1].text.strip()\n",
    "    fee_wd_low_kg = moreInfoNode[8].getchildren()[3].getchildren()[2].text.strip()\n",
    "    fee_wd_up_kg = moreInfoNode[8].getchildren()[3].getchildren()[3].text.strip()\n",
    "    \n",
    "    red_fee_am_n = moreInfoNode[8].getchildren()[5].getchildren()[2].text.strip()\n",
    "    red_fee_am_low_kg = moreInfoNode[8].getchildren()[5].getchildren()[3].text.strip()\n",
    "    red_fee_am_up_kg = moreInfoNode[8].getchildren()[5].getchildren()[4].text.strip()\n",
    "    red_fee_pm_n = moreInfoNode[8].getchildren()[6].getchildren()[1].text.strip()\n",
    "    red_fee_pm_low_kg = moreInfoNode[8].getchildren()[6].getchildren()[2].text.strip()\n",
    "    red_fee_pm_up_kg = moreInfoNode[8].getchildren()[6].getchildren()[3].text.strip()\n",
    "    red_fee_wd_n = moreInfoNode[8].getchildren()[7].getchildren()[1].text.strip()\n",
    "    red_fee_wd_low_kg = moreInfoNode[8].getchildren()[7].getchildren()[2].text.strip()\n",
    "    red_fee_wd_up_kg = moreInfoNode[8].getchildren()[7].getchildren()[3].text.strip()\n",
    "    \n",
    "    child_care_serv = moreInfoNode[10].getchildren()[0].getchildren()[1].text.strip()\n",
    "    fee_child_care_hd = moreInfoNode[10].getchildren()[2].getchildren()[0].text.strip()\n",
    "    fee_child_care_wd = moreInfoNode[10].getchildren()[2].getchildren()[1].text.strip()\n",
    "    child_care_under_2 = moreInfoNode[10].getchildren()[3].getchildren()[1].text.strip()\n",
    "    num_of_2_3 = moreInfoNode[10].getchildren()[4].getchildren()[1].text.strip()\n",
    "    child_care_subsidy = moreInfoNode[10].getchildren()[5].getchildren()[1].text.strip()\n",
    "    occasional_child_care = moreInfoNode[10].getchildren()[6].getchildren()[1].text.strip()\n",
    "    extend_hour = moreInfoNode[10].getchildren()[7].getchildren()[1].text.strip()\n",
    "    \n",
    "    curriculum = moreInfoNode[11].getchildren()[1].getchildren()[1].text.strip()\n",
    "    \n",
    "    summer_uni = moreInfoNode[13].getchildren()[1].getchildren()[1].text.strip()\n",
    "    winter_uni = moreInfoNode[13].getchildren()[1].getchildren()[3].text.strip()\n",
    "    school_bag = moreInfoNode[13].getchildren()[2].getchildren()[1].text.strip()\n",
    "    snack = moreInfoNode[13].getchildren()[2].getchildren()[3].text.strip()\n",
    "    txt_book = moreInfoNode[13].getchildren()[3].getchildren()[1].text.strip()\n",
    "    exe_book = moreInfoNode[13].getchildren()[3].getchildren()[3].text.strip()\n",
    "    \n",
    "    app_form = moreInfoNode[17].getchildren()[1].getchildren()[1].text.strip()\n",
    "    app_period = moreInfoNode[17].getchildren()[2].getchildren()[1].text.strip()\n",
    "    \n",
    "    app_fee = moreInfoNode[18].getchildren()[1].getchildren()[1].text.strip()\n",
    "    reg_fee_hd = moreInfoNode[18].getchildren()[2].getchildren()[2].text.strip()\n",
    "    reg_fee_wd = moreInfoNode[18].getchildren()[3].getchildren()[1].text.strip()\n",
    "    \n",
    "    school__info = {'district' : district, 'school_name': school_name, 'school_addr': school_addr, 'school_tel': school_tel, 'school_fax': school_fax, \n",
    "                    'school_year': school_year, 'voucher': voucher, 'school_cat': school_cat, 'student_cat': student_cat, 'supervisor': supervisor, \n",
    "                    'principal': principal, 'found_year': found_year, 'accomodation': accomodation, 'num_of_classrm': num_of_classrm, \n",
    "                    'outdoor_playground': outdoor_playground, 'indoor_playground': indoor_playground, 'music_rm': music_rm, \n",
    "                    'other_rm': other_rm, 'num_of_teacher': num_of_teacher, 'website': website, 'quality_review_result': quality_review_result, \n",
    "                    'quality_review_report': quality_review_report, 'degree_holder': degree_holder, 'non_degree_holder': non_degree_holder, \n",
    "                    'ece_cert': ece_cert, 'kg_teacher': kg_teacher, 'other_teacher_training': other_teacher_training, 'asist_kg_teacher': asist_kg_teacher, \n",
    "                    'other_qual': other_qual, 'am_teacher_ratio': am_teacher_ratio, 'pm_teacher_ratio': pm_teacher_ratio, 'incld_age_2_3': incld_age_2_3, \n",
    "                    'am_n': am_n, 'am_low_kg': am_low_kg, 'am_up_kg': am_up_kg, 'pm_n': pm_n, 'pm_low_kg': pm_low_kg, 'pm_up_kg': pm_up_kg, \n",
    "                    'wd_n': wd_n, 'wd_low_kg': wd_low_kg, 'wd_up_kg': wd_up_kg, 'fee_am_n': fee_am_n, 'fee_am_low_kg': fee_am_low_kg, \n",
    "                    'fee_am_up_kg': fee_am_up_kg, 'fee_pm_n': fee_pm_n, 'fee_pm_low_kg': fee_pm_low_kg, 'fee_pm_up_kg': fee_pm_up_kg, \n",
    "                    'fee_wd_n': fee_wd_n, 'fee_wd_low_kg': fee_wd_low_kg, 'fee_wd_up_kg': fee_wd_up_kg, 'red_fee_am_n': red_fee_am_n, \n",
    "                    'red_fee_am_low_kg': red_fee_am_low_kg, 'red_fee_am_up_kg': red_fee_am_up_kg, 'red_fee_pm_n': red_fee_pm_n, \n",
    "                    'red_fee_pm_low_kg': red_fee_pm_low_kg, 'red_fee_pm_up_kg': red_fee_pm_up_kg, 'red_fee_wd_n': red_fee_wd_n, \n",
    "                    'red_fee_wd_low_kg': red_fee_wd_low_kg, 'red_fee_wd_up_kg': red_fee_wd_up_kg, 'child_care_serv': child_care_serv, \n",
    "                    'fee_child_care_hd': fee_child_care_hd, 'fee_child_care_wd': fee_child_care_wd, 'child_care_under_2': child_care_under_2, \n",
    "                    'num_of_2_3': num_of_2_3, 'child_care_subsidy': child_care_subsidy, 'occasional_child_care': occasional_child_care, \n",
    "                    'extend_hour': extend_hour, 'curriculum': curriculum, 'summer_uni': summer_uni, 'winter_uni': winter_uni, 'txt_book': txt_book, \n",
    "                    'exe_book': exe_book, 'school_bag': school_bag, 'snack': snack, 'app_form': app_form, 'app_period': app_period, 'app_fee': app_fee, \n",
    "                    'reg_fee_hd': reg_fee_hd, 'reg_fee_wd': reg_fee_wd}\n",
    "    \n",
    "    print(school__info)\n",
    "\n",
    "getSchoolInfo(6440)"
   ]
  }
 ],
 "metadata": {
  "kernelspec": {
   "display_name": "Python 3",
   "language": "python",
   "name": "python3"
  },
  "language_info": {
   "codemirror_mode": {
    "name": "ipython",
    "version": 3
   },
   "file_extension": ".py",
   "mimetype": "text/x-python",
   "name": "python",
   "nbconvert_exporter": "python",
   "pygments_lexer": "ipython3",
   "version": "3.5.1"
  }
 },
 "nbformat": 4,
 "nbformat_minor": 0
}
