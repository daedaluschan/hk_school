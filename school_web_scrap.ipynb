{
 "cells": [
  {
   "cell_type": "code",
   "execution_count": 1,
   "metadata": {
    "collapsed": false
   },
   "outputs": [],
   "source": [
    "import requests\n",
    "import string\n",
    "\n",
    "from lxml import etree\n",
    "from lxml import html"
   ]
  },
  {
   "cell_type": "code",
   "execution_count": 2,
   "metadata": {
    "collapsed": true
   },
   "outputs": [],
   "source": [
    "school_list_url = 'http://kgp2015.highlight.hk/website/school.php'\n",
    "school_info_url = 'http://kgp2015.highlight.hk/website/schoolinfo.php?schid='\n",
    "proxies = {'http': 'proxy.wellsfargo.com:8080', 'https': 'proxy.wellsfargo.com:8080'}"
   ]
  },
  {
   "cell_type": "code",
   "execution_count": 18,
   "metadata": {
    "collapsed": false,
    "scrolled": true
   },
   "outputs": [
    {
     "data": {
      "text/plain": [
       "994"
      ]
     },
     "execution_count": 18,
     "metadata": {},
     "output_type": "execute_result"
    }
   ],
   "source": [
    "parser = etree.HTMLParser()\n",
    "\n",
    "\n",
    "def getSchoolIdList():\n",
    "    if len(proxies) == 0: \n",
    "        r = requests.get(school_list_url)\n",
    "    else:\n",
    "        r = requests.get(school_list_url, proxies=proxies)\n",
    "    tree = etree.fromstring(r.content, parser=parser)\n",
    "    \n",
    "    td_list = tree.xpath('//table[@class=\\'font_content_school_list\\']/tr/td[@onclick]')\n",
    "    \n",
    "    school_id_list = []\n",
    "    \n",
    "    for td in td_list:\n",
    "        school_id_list.append(td.attrib['onclick'].split('\\'')[1])\n",
    "    \n",
    "    return school_id_list\n",
    "\n",
    "\n",
    "i = getSchoolIdList()\n",
    "\n",
    "len(i)"
   ]
  },
  {
   "cell_type": "code",
   "execution_count": 12,
   "metadata": {
    "collapsed": false
   },
   "outputs": [
    {
     "name": "stdout",
     "output_type": "stream",
     "text": [
      "{'schoolName': '基督教神召會合一堂幼稚園'}\n"
     ]
    }
   ],
   "source": [
    "def getSchoolInfo(school_id):\n",
    "    schoolInfo = dict()\n",
    "    r = requests.get(school_info_url + school_id.__str__(), proxies=proxies)\n",
    "    tree = etree.fromstring(r.content, parser=parser)\n",
    "        \n",
    "    schoolName = tree.xpath('//table[@class=\\'font_content_schoolinfo\\']/tr[1]/td[1]')[0].text.strip()\n",
    "    \n",
    "    \n",
    "    schoolInfo = {'schoolName' : schoolName}\n",
    "    print(schoolInfo)\n",
    "\n",
    "getSchoolInfo(6440)"
   ]
  }
 ],
 "metadata": {
  "kernelspec": {
   "display_name": "Python 3",
   "language": "python",
   "name": "python3"
  },
  "language_info": {
   "codemirror_mode": {
    "name": "ipython",
    "version": 3
   },
   "file_extension": ".py",
   "mimetype": "text/x-python",
   "name": "python",
   "nbconvert_exporter": "python",
   "pygments_lexer": "ipython3",
   "version": "3.5.1"
  }
 },
 "nbformat": 4,
 "nbformat_minor": 0
}
